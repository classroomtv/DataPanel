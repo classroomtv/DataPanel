{
 "cells": [
  {
   "cell_type": "code",
   "execution_count": 1,
   "metadata": {},
   "outputs": [],
   "source": [
    "import pandas as pd\n"
   ]
  },
  {
   "cell_type": "code",
   "execution_count": 28,
   "metadata": {},
   "outputs": [],
   "source": [
    "def load_database(path):\n",
    "    dataFrame = pd.read_csv(path, on_bad_lines=\"skip\")\n",
    "    print(dataFrame.dtypes)\n",
    "    for (columnName,columnDataType) in zip(dataFrame.columns,dataFrame.dtypes):\n",
    "        print((columnName,columnDataType))\n",
    "        if columnDataType == \"float64\":\n",
    "            dataFrame[columnName] = dataFrame[columnName].astype('Int64')\n",
    "        if columnName[-4:] == \"time\":\n",
    "            dataFrame[columnName] = pd.to_datetime(dataFrame[columnName], infer_datetime_format=True)\n",
    "    print(dataFrame.dtypes)\n",
    "    "
   ]
  },
  {
   "cell_type": "code",
   "execution_count": 29,
   "metadata": {},
   "outputs": [
    {
     "name": "stdout",
     "output_type": "stream",
     "text": [
      "Unnamed: 0                 int64\n",
      "id                       float64\n",
      "title                     object\n",
      "name                      object\n",
      "institution_id           float64\n",
      "create_time               object\n",
      "view_count               float64\n",
      "author_id                float64\n",
      "user_finished_courses    float64\n",
      "signed_users             float64\n",
      "user_failed_courses      float64\n",
      "dtype: object\n",
      "('Unnamed: 0', dtype('int64'))\n",
      "d: 0\n",
      "('id', dtype('float64'))\n",
      "id\n",
      "('title', dtype('O'))\n",
      "itle\n",
      "('name', dtype('O'))\n",
      "name\n",
      "('institution_id', dtype('float64'))\n",
      "n_id\n",
      "('create_time', dtype('O'))\n",
      "time\n",
      "('view_count', dtype('float64'))\n",
      "ount\n",
      "('author_id', dtype('float64'))\n",
      "r_id\n",
      "('user_finished_courses', dtype('float64'))\n",
      "rses\n",
      "('signed_users', dtype('float64'))\n",
      "sers\n",
      "('user_failed_courses', dtype('float64'))\n",
      "rses\n",
      "Unnamed: 0                int64\n",
      "id                        Int64\n",
      "title                    object\n",
      "name                     object\n",
      "institution_id            Int64\n",
      "create_time              object\n",
      "view_count                Int64\n",
      "author_id                 Int64\n",
      "user_finished_courses     Int64\n",
      "signed_users              Int64\n",
      "user_failed_courses       Int64\n",
      "dtype: object\n"
     ]
    }
   ],
   "source": [
    "load_database(\"Database/courses_info.csv\")\n"
   ]
  },
  {
   "cell_type": "code",
   "execution_count": null,
   "metadata": {},
   "outputs": [
    {
     "ename": "",
     "evalue": "",
     "output_type": "error",
     "traceback": [
      "\u001b[1;31mRunning cells with 'venv' requires ipykernel package.\n",
      "\u001b[1;31mRun the following command to install 'ipykernel' into the Python environment. \n",
      "\u001b[1;31mCommand: 'c:/Users/willi/Desktop/Umine/venv/Scripts/python.exe -m pip install ipykernel -U --force-reinstall'"
     ]
    }
   ],
   "source": []
  }
 ],
 "metadata": {
  "kernelspec": {
   "display_name": "biopy",
   "language": "python",
   "name": "python3"
  },
  "language_info": {
   "codemirror_mode": {
    "name": "ipython",
    "version": 3
   },
   "file_extension": ".py",
   "mimetype": "text/x-python",
   "name": "python",
   "nbconvert_exporter": "python",
   "pygments_lexer": "ipython3",
   "version": "3.9.15"
  },
  "orig_nbformat": 4,
  "vscode": {
   "interpreter": {
    "hash": "f44811d4f4ba3d169bc94d3cd6587eaa0b31e192625c1320c9eefcba35a5ea6a"
   }
  }
 },
 "nbformat": 4,
 "nbformat_minor": 2
}
