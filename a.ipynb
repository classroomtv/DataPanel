{
 "cells": [
  {
   "cell_type": "code",
   "execution_count": 151,
   "metadata": {},
   "outputs": [],
   "source": [
    "import pandas as pd\n",
    "import plotly.express as px  # pip install plotly-express\n"
   ]
  },
  {
   "cell_type": "code",
   "execution_count": 152,
   "metadata": {},
   "outputs": [],
   "source": [
    "def load_database(path):\n",
    "    dataFrame = pd.read_csv(path, on_bad_lines=\"skip\", index_col=0)\n",
    "    for (columnName,columnDataType) in zip(dataFrame.columns,dataFrame.dtypes):\n",
    "        if columnDataType == \"float64\":\n",
    "            dataFrame[columnName] = dataFrame[columnName].astype('Int64')\n",
    "        if columnName[-4:] == \"time\":\n",
    "            dataFrame[columnName] = pd.to_datetime(dataFrame[columnName], infer_datetime_format=True)\n",
    "    return dataFrame\n"
   ]
  },
  {
   "cell_type": "code",
   "execution_count": 153,
   "metadata": {},
   "outputs": [],
   "source": [
    "users_info_df = load_database(\"pages/Database/users_info.csv\")\n",
    "\n",
    "institutions_df = load_database(\"pages/Database/institutions.csv\" )\n",
    "\n",
    "\n",
    "#a = users_info_df.groupby(users_info_df.create_time.dt.year).count()[\"user_id\"]\n",
    "a = users_info_df.groupby(users_info_df.create_time.dt.year).agg({\"user_id\": \"count\"})"
   ]
  },
  {
   "cell_type": "code",
   "execution_count": 162,
   "metadata": {},
   "outputs": [
    {
     "name": "stdout",
     "output_type": "stream",
     "text": [
      "(1970,       create_time  institution_id  user_id  is_admin  active  status\n",
      "0      1970-01-01              15     4591         1       1       1\n",
      "1      1970-01-01              23       29         1       1       1\n",
      "2      1970-01-01              16     5041         1       1       1\n",
      "3      1970-01-01               7     5057         1       1       1\n",
      "4      1970-01-01               8     5184         1       1       1\n",
      "...           ...             ...      ...       ...     ...     ...\n",
      "18420  1970-01-01             119    35893         0       1       1\n",
      "18421  1970-01-01              48    96438         1       1       1\n",
      "18422  1970-01-01             782   209339         0       1       1\n",
      "18423  1970-01-01              15   109409         0       1       1\n",
      "18424  1970-01-01             874   270545         0       1       1\n",
      "\n",
      "[18425 rows x 6 columns])\n",
      "(2016,       create_time  institution_id  user_id  is_admin  active  status\n",
      "18425  2016-02-12              23     9980         0       0       1\n",
      "18426  2016-02-12              23    12588         0       0       1\n",
      "18427  2016-02-12              23    12811         0       1       1\n",
      "18428  2016-02-12              23    12764         0       1       1\n",
      "18429  2016-02-12              23    12975         0       0       1\n",
      "...           ...             ...      ...       ...     ...     ...\n",
      "41351  2016-12-31             541    53329         0       1       1\n",
      "41352  2016-12-31               1    53330         0      -1      -1\n",
      "41353  2016-12-31             541    53331         0       1       1\n",
      "41354  2016-12-31             541    53332         0       1       1\n",
      "41355  2016-12-31             541    53333         0       1       1\n",
      "\n",
      "[22931 rows x 6 columns])\n",
      "(2017,       create_time  institution_id  user_id  is_admin  active  status\n",
      "41356  2017-01-03              75    51225         0       1       0\n",
      "41357  2017-01-03              75    53285         0       1       0\n",
      "41358  2017-01-03               1    53335         0      -1      -1\n",
      "41359  2017-01-03              75    53338         0       1       0\n",
      "41360  2017-01-03              75    53339         0       1       0\n",
      "...           ...             ...      ...       ...     ...     ...\n",
      "70707  2017-12-30             715    86084         0       1       1\n",
      "70708  2017-12-30             715    86086         0       1       1\n",
      "70709  2017-12-30               1    86087         0      -1      -1\n",
      "70710  2017-12-30             541    86088         0       1       1\n",
      "70711  2017-12-31               1    86090         0      -1      -1\n",
      "\n",
      "[29356 rows x 6 columns])\n",
      "(2018,       create_time  institution_id  user_id  is_admin  active  status\n",
      "70712  2018-01-02               1    86095         0      -1      -1\n",
      "70713  2018-01-02              75    86096         0       1       1\n",
      "70714  2018-01-02              75    86097         0       1       1\n",
      "70715  2018-01-02              75    86098         0       1       1\n",
      "70716  2018-01-02              75    86099         0       1       1\n",
      "...           ...             ...      ...       ...     ...     ...\n",
      "85501  2018-12-31              48   110127         0       1       1\n",
      "85502  2018-12-31              48   110129         0       1       1\n",
      "85503  2018-12-31              48   110130         0       1       1\n",
      "85504  2018-12-31              48   110131         0       1       1\n",
      "85505  2018-12-31              48   110132         0       1       1\n",
      "\n",
      "[14794 rows x 6 columns])\n",
      "(2019,        create_time  institution_id  user_id  is_admin  active  status\n",
      "85506   2019-01-01              48   110133         0       1       1\n",
      "85507   2019-01-01              48   110134         0       1       1\n",
      "85508   2019-01-01              48   110135         0       1       1\n",
      "85509   2019-01-01              48   110136         0       1       1\n",
      "85510   2019-01-01              48   110137         0       1       1\n",
      "...            ...             ...      ...       ...     ...     ...\n",
      "108860  2019-12-31             541    88689         0       1       1\n",
      "108861  2019-12-31             746    88722         0       0       0\n",
      "108862  2019-12-31             541   103013         0       1       1\n",
      "108863  2019-12-31             541   105345         0       1       1\n",
      "108864  2019-12-31             541   106341         0       1       1\n",
      "\n",
      "[23359 rows x 6 columns])\n",
      "(2020,        create_time  institution_id  user_id  is_admin  active  status\n",
      "108865  2020-01-02             746   113425         0       0       0\n",
      "108866  2020-01-02             746   114461         0       0       0\n",
      "108867  2020-01-02             746   140601         0       0       0\n",
      "108868  2020-01-02             746   142113         0       0       0\n",
      "108869  2020-01-02             115   144723         0       1       1\n",
      "...            ...             ...      ...       ...     ...     ...\n",
      "138352  2020-12-31             677   209356         0       1       1\n",
      "138353  2020-12-31             746   210019         0       0       0\n",
      "138354  2020-12-31             541   210031         0       1       1\n",
      "138355  2020-12-31             541    86163         0       1       1\n",
      "138356  2020-12-31             746   113477         0       0       0\n",
      "\n",
      "[29492 rows x 6 columns])\n",
      "(2021,        create_time  institution_id  user_id  is_admin  active  status\n",
      "138357  2021-01-04             799   207924         0       1       1\n",
      "138358  2021-01-04             746   212749         0       0       0\n",
      "138359  2021-01-04             809   212916         0       1       1\n",
      "138360  2021-01-04             788   214724         0       1      -1\n",
      "138361  2021-01-04             788   214725         0       1      -1\n",
      "...            ...             ...      ...       ...     ...     ...\n",
      "195519  2021-12-31             837   236749         0       1       1\n",
      "195520  2021-12-31             837   236755         0       1       1\n",
      "195521  2021-12-31             837   236757         0       1       1\n",
      "195522  2021-12-31             837   237447         0       1       1\n",
      "195523  2021-12-31             837   237590         0       1       1\n",
      "\n",
      "[57167 rows x 6 columns])\n",
      "(2022,        create_time  institution_id  user_id  is_admin  active  status\n",
      "195524  2022-01-02             798   250537         0       1       1\n",
      "195525  2022-01-02             798   250538         0       1       1\n",
      "195526  2022-01-02             798   250539         0       1       1\n",
      "195527  2022-01-02             798   250540         0       1       1\n",
      "195528  2022-01-02             798   250541         0       1       1\n",
      "...            ...             ...      ...       ...     ...     ...\n",
      "250356  2022-12-30             914   293993         0       1       1\n",
      "250357  2022-12-30             798   293994         0       1       1\n",
      "250358  2022-12-30             798   293995         0       1       1\n",
      "250359  2022-12-30             892   288105         0       1       1\n",
      "250360  2022-12-30             842   239075         0       1       1\n",
      "\n",
      "[54837 rows x 6 columns])\n",
      "(2023,        create_time  institution_id  user_id  is_admin  active  status\n",
      "250361  2023-01-01             798   293999         0       1       1\n",
      "250362  2023-01-02             798   294000         0       1       1\n",
      "250363  2023-01-02             798   294001         0       1       1\n",
      "250364  2023-01-02             798   294002         0       1       1\n",
      "250365  2023-01-03             880   292225         0       1       1\n",
      "...            ...             ...      ...       ...     ...     ...\n",
      "257502  2023-01-11             850   247154         0       1       1\n",
      "257503  2023-01-11             850   247195         0       1       1\n",
      "257504  2023-01-11             850   247207         0       1       1\n",
      "257505  2023-01-11             850   247208         0       1       1\n",
      "257506  2023-01-11             850   247387         0       1       1\n",
      "\n",
      "[7146 rows x 6 columns])\n"
     ]
    }
   ],
   "source": [
    "for i in users_info_df.groupby(users_info_df.create_time.dt.year):\n",
    "    print(i)"
   ]
  },
  {
   "cell_type": "code",
   "execution_count": 155,
   "metadata": {},
   "outputs": [
    {
     "data": {
      "text/html": [
       "<div>\n",
       "<style scoped>\n",
       "    .dataframe tbody tr th:only-of-type {\n",
       "        vertical-align: middle;\n",
       "    }\n",
       "\n",
       "    .dataframe tbody tr th {\n",
       "        vertical-align: top;\n",
       "    }\n",
       "\n",
       "    .dataframe thead th {\n",
       "        text-align: right;\n",
       "    }\n",
       "</style>\n",
       "<table border=\"1\" class=\"dataframe\">\n",
       "  <thead>\n",
       "    <tr style=\"text-align: right;\">\n",
       "      <th></th>\n",
       "      <th>user_id</th>\n",
       "    </tr>\n",
       "    <tr>\n",
       "      <th>create_time</th>\n",
       "      <th></th>\n",
       "    </tr>\n",
       "  </thead>\n",
       "  <tbody>\n",
       "    <tr>\n",
       "      <th>2016</th>\n",
       "      <td>22931</td>\n",
       "    </tr>\n",
       "    <tr>\n",
       "      <th>2017</th>\n",
       "      <td>29356</td>\n",
       "    </tr>\n",
       "    <tr>\n",
       "      <th>2018</th>\n",
       "      <td>14794</td>\n",
       "    </tr>\n",
       "    <tr>\n",
       "      <th>2019</th>\n",
       "      <td>23359</td>\n",
       "    </tr>\n",
       "    <tr>\n",
       "      <th>2020</th>\n",
       "      <td>29492</td>\n",
       "    </tr>\n",
       "    <tr>\n",
       "      <th>2021</th>\n",
       "      <td>57167</td>\n",
       "    </tr>\n",
       "    <tr>\n",
       "      <th>2022</th>\n",
       "      <td>54837</td>\n",
       "    </tr>\n",
       "    <tr>\n",
       "      <th>2023</th>\n",
       "      <td>7146</td>\n",
       "    </tr>\n",
       "  </tbody>\n",
       "</table>\n",
       "</div>"
      ],
      "text/plain": [
       "             user_id\n",
       "create_time         \n",
       "2016           22931\n",
       "2017           29356\n",
       "2018           14794\n",
       "2019           23359\n",
       "2020           29492\n",
       "2021           57167\n",
       "2022           54837\n",
       "2023            7146"
      ]
     },
     "execution_count": 155,
     "metadata": {},
     "output_type": "execute_result"
    }
   ],
   "source": [
    "a"
   ]
  },
  {
   "cell_type": "code",
   "execution_count": 156,
   "metadata": {},
   "outputs": [
    {
     "data": {
      "application/vnd.plotly.v1+json": {
       "config": {
        "plotlyServerURL": "https://plot.ly"
       },
       "data": [
        {
         "alignmentgroup": "True",
         "hovertemplate": "create_time=%{x}<br>user_id=%{y}<extra></extra>",
         "legendgroup": "",
         "marker": {
          "color": "#636efa",
          "pattern": {
           "shape": ""
          }
         },
         "name": "",
         "offsetgroup": "",
         "orientation": "v",
         "showlegend": false,
         "textposition": "auto",
         "type": "bar",
         "x": [
          2016,
          2017,
          2018,
          2019,
          2020,
          2021,
          2022,
          2023
         ],
         "xaxis": "x",
         "y": [
          22931,
          29356,
          14794,
          23359,
          29492,
          57167,
          54837,
          7146
         ],
         "yaxis": "y"
        }
       ],
       "layout": {
        "barmode": "group",
        "legend": {
         "tracegroupgap": 0
        },
        "margin": {
         "t": 60
        },
        "template": {
         "data": {
          "bar": [
           {
            "error_x": {
             "color": "#2a3f5f"
            },
            "error_y": {
             "color": "#2a3f5f"
            },
            "marker": {
             "line": {
              "color": "#E5ECF6",
              "width": 0.5
             },
             "pattern": {
              "fillmode": "overlay",
              "size": 10,
              "solidity": 0.2
             }
            },
            "type": "bar"
           }
          ],
          "barpolar": [
           {
            "marker": {
             "line": {
              "color": "#E5ECF6",
              "width": 0.5
             },
             "pattern": {
              "fillmode": "overlay",
              "size": 10,
              "solidity": 0.2
             }
            },
            "type": "barpolar"
           }
          ],
          "carpet": [
           {
            "aaxis": {
             "endlinecolor": "#2a3f5f",
             "gridcolor": "white",
             "linecolor": "white",
             "minorgridcolor": "white",
             "startlinecolor": "#2a3f5f"
            },
            "baxis": {
             "endlinecolor": "#2a3f5f",
             "gridcolor": "white",
             "linecolor": "white",
             "minorgridcolor": "white",
             "startlinecolor": "#2a3f5f"
            },
            "type": "carpet"
           }
          ],
          "choropleth": [
           {
            "colorbar": {
             "outlinewidth": 0,
             "ticks": ""
            },
            "type": "choropleth"
           }
          ],
          "contour": [
           {
            "colorbar": {
             "outlinewidth": 0,
             "ticks": ""
            },
            "colorscale": [
             [
              0,
              "#0d0887"
             ],
             [
              0.1111111111111111,
              "#46039f"
             ],
             [
              0.2222222222222222,
              "#7201a8"
             ],
             [
              0.3333333333333333,
              "#9c179e"
             ],
             [
              0.4444444444444444,
              "#bd3786"
             ],
             [
              0.5555555555555556,
              "#d8576b"
             ],
             [
              0.6666666666666666,
              "#ed7953"
             ],
             [
              0.7777777777777778,
              "#fb9f3a"
             ],
             [
              0.8888888888888888,
              "#fdca26"
             ],
             [
              1,
              "#f0f921"
             ]
            ],
            "type": "contour"
           }
          ],
          "contourcarpet": [
           {
            "colorbar": {
             "outlinewidth": 0,
             "ticks": ""
            },
            "type": "contourcarpet"
           }
          ],
          "heatmap": [
           {
            "colorbar": {
             "outlinewidth": 0,
             "ticks": ""
            },
            "colorscale": [
             [
              0,
              "#0d0887"
             ],
             [
              0.1111111111111111,
              "#46039f"
             ],
             [
              0.2222222222222222,
              "#7201a8"
             ],
             [
              0.3333333333333333,
              "#9c179e"
             ],
             [
              0.4444444444444444,
              "#bd3786"
             ],
             [
              0.5555555555555556,
              "#d8576b"
             ],
             [
              0.6666666666666666,
              "#ed7953"
             ],
             [
              0.7777777777777778,
              "#fb9f3a"
             ],
             [
              0.8888888888888888,
              "#fdca26"
             ],
             [
              1,
              "#f0f921"
             ]
            ],
            "type": "heatmap"
           }
          ],
          "heatmapgl": [
           {
            "colorbar": {
             "outlinewidth": 0,
             "ticks": ""
            },
            "colorscale": [
             [
              0,
              "#0d0887"
             ],
             [
              0.1111111111111111,
              "#46039f"
             ],
             [
              0.2222222222222222,
              "#7201a8"
             ],
             [
              0.3333333333333333,
              "#9c179e"
             ],
             [
              0.4444444444444444,
              "#bd3786"
             ],
             [
              0.5555555555555556,
              "#d8576b"
             ],
             [
              0.6666666666666666,
              "#ed7953"
             ],
             [
              0.7777777777777778,
              "#fb9f3a"
             ],
             [
              0.8888888888888888,
              "#fdca26"
             ],
             [
              1,
              "#f0f921"
             ]
            ],
            "type": "heatmapgl"
           }
          ],
          "histogram": [
           {
            "marker": {
             "pattern": {
              "fillmode": "overlay",
              "size": 10,
              "solidity": 0.2
             }
            },
            "type": "histogram"
           }
          ],
          "histogram2d": [
           {
            "colorbar": {
             "outlinewidth": 0,
             "ticks": ""
            },
            "colorscale": [
             [
              0,
              "#0d0887"
             ],
             [
              0.1111111111111111,
              "#46039f"
             ],
             [
              0.2222222222222222,
              "#7201a8"
             ],
             [
              0.3333333333333333,
              "#9c179e"
             ],
             [
              0.4444444444444444,
              "#bd3786"
             ],
             [
              0.5555555555555556,
              "#d8576b"
             ],
             [
              0.6666666666666666,
              "#ed7953"
             ],
             [
              0.7777777777777778,
              "#fb9f3a"
             ],
             [
              0.8888888888888888,
              "#fdca26"
             ],
             [
              1,
              "#f0f921"
             ]
            ],
            "type": "histogram2d"
           }
          ],
          "histogram2dcontour": [
           {
            "colorbar": {
             "outlinewidth": 0,
             "ticks": ""
            },
            "colorscale": [
             [
              0,
              "#0d0887"
             ],
             [
              0.1111111111111111,
              "#46039f"
             ],
             [
              0.2222222222222222,
              "#7201a8"
             ],
             [
              0.3333333333333333,
              "#9c179e"
             ],
             [
              0.4444444444444444,
              "#bd3786"
             ],
             [
              0.5555555555555556,
              "#d8576b"
             ],
             [
              0.6666666666666666,
              "#ed7953"
             ],
             [
              0.7777777777777778,
              "#fb9f3a"
             ],
             [
              0.8888888888888888,
              "#fdca26"
             ],
             [
              1,
              "#f0f921"
             ]
            ],
            "type": "histogram2dcontour"
           }
          ],
          "mesh3d": [
           {
            "colorbar": {
             "outlinewidth": 0,
             "ticks": ""
            },
            "type": "mesh3d"
           }
          ],
          "parcoords": [
           {
            "line": {
             "colorbar": {
              "outlinewidth": 0,
              "ticks": ""
             }
            },
            "type": "parcoords"
           }
          ],
          "pie": [
           {
            "automargin": true,
            "type": "pie"
           }
          ],
          "scatter": [
           {
            "fillpattern": {
             "fillmode": "overlay",
             "size": 10,
             "solidity": 0.2
            },
            "type": "scatter"
           }
          ],
          "scatter3d": [
           {
            "line": {
             "colorbar": {
              "outlinewidth": 0,
              "ticks": ""
             }
            },
            "marker": {
             "colorbar": {
              "outlinewidth": 0,
              "ticks": ""
             }
            },
            "type": "scatter3d"
           }
          ],
          "scattercarpet": [
           {
            "marker": {
             "colorbar": {
              "outlinewidth": 0,
              "ticks": ""
             }
            },
            "type": "scattercarpet"
           }
          ],
          "scattergeo": [
           {
            "marker": {
             "colorbar": {
              "outlinewidth": 0,
              "ticks": ""
             }
            },
            "type": "scattergeo"
           }
          ],
          "scattergl": [
           {
            "marker": {
             "colorbar": {
              "outlinewidth": 0,
              "ticks": ""
             }
            },
            "type": "scattergl"
           }
          ],
          "scattermapbox": [
           {
            "marker": {
             "colorbar": {
              "outlinewidth": 0,
              "ticks": ""
             }
            },
            "type": "scattermapbox"
           }
          ],
          "scatterpolar": [
           {
            "marker": {
             "colorbar": {
              "outlinewidth": 0,
              "ticks": ""
             }
            },
            "type": "scatterpolar"
           }
          ],
          "scatterpolargl": [
           {
            "marker": {
             "colorbar": {
              "outlinewidth": 0,
              "ticks": ""
             }
            },
            "type": "scatterpolargl"
           }
          ],
          "scatterternary": [
           {
            "marker": {
             "colorbar": {
              "outlinewidth": 0,
              "ticks": ""
             }
            },
            "type": "scatterternary"
           }
          ],
          "surface": [
           {
            "colorbar": {
             "outlinewidth": 0,
             "ticks": ""
            },
            "colorscale": [
             [
              0,
              "#0d0887"
             ],
             [
              0.1111111111111111,
              "#46039f"
             ],
             [
              0.2222222222222222,
              "#7201a8"
             ],
             [
              0.3333333333333333,
              "#9c179e"
             ],
             [
              0.4444444444444444,
              "#bd3786"
             ],
             [
              0.5555555555555556,
              "#d8576b"
             ],
             [
              0.6666666666666666,
              "#ed7953"
             ],
             [
              0.7777777777777778,
              "#fb9f3a"
             ],
             [
              0.8888888888888888,
              "#fdca26"
             ],
             [
              1,
              "#f0f921"
             ]
            ],
            "type": "surface"
           }
          ],
          "table": [
           {
            "cells": {
             "fill": {
              "color": "#EBF0F8"
             },
             "line": {
              "color": "white"
             }
            },
            "header": {
             "fill": {
              "color": "#C8D4E3"
             },
             "line": {
              "color": "white"
             }
            },
            "type": "table"
           }
          ]
         },
         "layout": {
          "annotationdefaults": {
           "arrowcolor": "#2a3f5f",
           "arrowhead": 0,
           "arrowwidth": 1
          },
          "autotypenumbers": "strict",
          "coloraxis": {
           "colorbar": {
            "outlinewidth": 0,
            "ticks": ""
           }
          },
          "colorscale": {
           "diverging": [
            [
             0,
             "#8e0152"
            ],
            [
             0.1,
             "#c51b7d"
            ],
            [
             0.2,
             "#de77ae"
            ],
            [
             0.3,
             "#f1b6da"
            ],
            [
             0.4,
             "#fde0ef"
            ],
            [
             0.5,
             "#f7f7f7"
            ],
            [
             0.6,
             "#e6f5d0"
            ],
            [
             0.7,
             "#b8e186"
            ],
            [
             0.8,
             "#7fbc41"
            ],
            [
             0.9,
             "#4d9221"
            ],
            [
             1,
             "#276419"
            ]
           ],
           "sequential": [
            [
             0,
             "#0d0887"
            ],
            [
             0.1111111111111111,
             "#46039f"
            ],
            [
             0.2222222222222222,
             "#7201a8"
            ],
            [
             0.3333333333333333,
             "#9c179e"
            ],
            [
             0.4444444444444444,
             "#bd3786"
            ],
            [
             0.5555555555555556,
             "#d8576b"
            ],
            [
             0.6666666666666666,
             "#ed7953"
            ],
            [
             0.7777777777777778,
             "#fb9f3a"
            ],
            [
             0.8888888888888888,
             "#fdca26"
            ],
            [
             1,
             "#f0f921"
            ]
           ],
           "sequentialminus": [
            [
             0,
             "#0d0887"
            ],
            [
             0.1111111111111111,
             "#46039f"
            ],
            [
             0.2222222222222222,
             "#7201a8"
            ],
            [
             0.3333333333333333,
             "#9c179e"
            ],
            [
             0.4444444444444444,
             "#bd3786"
            ],
            [
             0.5555555555555556,
             "#d8576b"
            ],
            [
             0.6666666666666666,
             "#ed7953"
            ],
            [
             0.7777777777777778,
             "#fb9f3a"
            ],
            [
             0.8888888888888888,
             "#fdca26"
            ],
            [
             1,
             "#f0f921"
            ]
           ]
          },
          "colorway": [
           "#636efa",
           "#EF553B",
           "#00cc96",
           "#ab63fa",
           "#FFA15A",
           "#19d3f3",
           "#FF6692",
           "#B6E880",
           "#FF97FF",
           "#FECB52"
          ],
          "font": {
           "color": "#2a3f5f"
          },
          "geo": {
           "bgcolor": "white",
           "lakecolor": "white",
           "landcolor": "#E5ECF6",
           "showlakes": true,
           "showland": true,
           "subunitcolor": "white"
          },
          "hoverlabel": {
           "align": "left"
          },
          "hovermode": "closest",
          "mapbox": {
           "style": "light"
          },
          "paper_bgcolor": "white",
          "plot_bgcolor": "#E5ECF6",
          "polar": {
           "angularaxis": {
            "gridcolor": "white",
            "linecolor": "white",
            "ticks": ""
           },
           "bgcolor": "#E5ECF6",
           "radialaxis": {
            "gridcolor": "white",
            "linecolor": "white",
            "ticks": ""
           }
          },
          "scene": {
           "xaxis": {
            "backgroundcolor": "#E5ECF6",
            "gridcolor": "white",
            "gridwidth": 2,
            "linecolor": "white",
            "showbackground": true,
            "ticks": "",
            "zerolinecolor": "white"
           },
           "yaxis": {
            "backgroundcolor": "#E5ECF6",
            "gridcolor": "white",
            "gridwidth": 2,
            "linecolor": "white",
            "showbackground": true,
            "ticks": "",
            "zerolinecolor": "white"
           },
           "zaxis": {
            "backgroundcolor": "#E5ECF6",
            "gridcolor": "white",
            "gridwidth": 2,
            "linecolor": "white",
            "showbackground": true,
            "ticks": "",
            "zerolinecolor": "white"
           }
          },
          "shapedefaults": {
           "line": {
            "color": "#2a3f5f"
           }
          },
          "ternary": {
           "aaxis": {
            "gridcolor": "white",
            "linecolor": "white",
            "ticks": ""
           },
           "baxis": {
            "gridcolor": "white",
            "linecolor": "white",
            "ticks": ""
           },
           "bgcolor": "#E5ECF6",
           "caxis": {
            "gridcolor": "white",
            "linecolor": "white",
            "ticks": ""
           }
          },
          "title": {
           "x": 0.05
          },
          "xaxis": {
           "automargin": true,
           "gridcolor": "white",
           "linecolor": "white",
           "ticks": "",
           "title": {
            "standoff": 15
           },
           "zerolinecolor": "white",
           "zerolinewidth": 2
          },
          "yaxis": {
           "automargin": true,
           "gridcolor": "white",
           "linecolor": "white",
           "ticks": "",
           "title": {
            "standoff": 15
           },
           "zerolinecolor": "white",
           "zerolinewidth": 2
          }
         }
        },
        "xaxis": {
         "anchor": "y",
         "domain": [
          0,
          1
         ],
         "title": {
          "text": "create_time"
         }
        },
        "yaxis": {
         "anchor": "x",
         "domain": [
          0,
          1
         ],
         "title": {
          "text": "user_id"
         }
        }
       }
      }
     },
     "metadata": {},
     "output_type": "display_data"
    }
   ],
   "source": [
    "fig = px.bar(\n",
    "    data_frame=a,\n",
    "    x=a.index,\n",
    "    y=a.user_id,\n",
    "    #color=\"user_id\",\n",
    "    barmode=\"group\",\n",
    ")\n",
    "\n",
    "fig.show()"
   ]
  },
  {
   "cell_type": "code",
   "execution_count": 157,
   "metadata": {},
   "outputs": [
    {
     "data": {
      "text/plain": [
       "<AxesSubplot: title={'center': 'Arrests'}, xlabel='Home Team', ylabel='Mean Arrests'>"
      ]
     },
     "execution_count": 157,
     "metadata": {},
     "output_type": "execute_result"
    },
    {
     "data": {
      "image/png": "[encoded data removed]",
      "text/plain": [
       "<Figure size 600x500 with 1 Axes>"
      ]
     },
     "metadata": {},
     "output_type": "display_data"
    }
   ],
   "source": [
    "a.plot(kind='bar', title='Arrests', ylabel='Mean Arrests',\n",
    "         xlabel='Home Team', figsize=(6, 5))\n"
   ]
  },
  {
   "cell_type": "code",
   "execution_count": null,
   "metadata": {},
   "outputs": [],
   "source": []
  }
 ],
 "metadata": {
  "kernelspec": {
   "display_name": "base",
   "language": "python",
   "name": "python3"
  },
  "language_info": {
   "codemirror_mode": {
    "name": "ipython",
    "version": 3
   },
   "file_extension": ".py",
   "mimetype": "text/x-python",
   "name": "python",
   "nbconvert_exporter": "python",
   "pygments_lexer": "ipython3",
   "version": "3.9.13"
  },
  "orig_nbformat": 4,
  "vscode": {
   "interpreter": {
    "hash": "ad2bdc8ecc057115af97d19610ffacc2b4e99fae6737bb82f5d7fb13d2f2c186"
   }
  }
 },
 "nbformat": 4,
 "nbformat_minor": 2
}
