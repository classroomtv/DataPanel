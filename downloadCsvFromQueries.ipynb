{
 "cells": [
  {
   "cell_type": "code",
   "execution_count": 16,
   "metadata": {},
   "outputs": [],
   "source": [
    "import mysql.connector\n",
    "from mysql.connector import Error\n",
    "from dotenv import load_dotenv\n",
    "import pandas as pd\n",
    "from os import walk"
   ]
  },
  {
   "cell_type": "code",
   "execution_count": 17,
   "metadata": {},
   "outputs": [],
   "source": [
    "load_dotenv() \n",
    "host = os.environ.get('DB_HOST')\n",
    "user_name = os.environ.get('DB_USER_NAME')\n",
    "password = os.environ.get('DB_USER_PASSWORD')\n",
    "port_num = os.environ.get('DB_PORT')"
   ]
  },
  {
   "cell_type": "code",
   "execution_count": 18,
   "metadata": {},
   "outputs": [],
   "source": [
    "def extract_data(path_to_queries, path_to_save_files, connection):\n",
    "    filenames = next(walk(path_to_queries), (None, None, []))[2] \n",
    "    for filename in filenames:\n",
    "        with open(path_to_queries + filename, \"r\") as file:\n",
    "            query = file.read()\n",
    "        file = pd.read_sql(\n",
    "            query,\n",
    "            connection)\n",
    "        file.to_csv(path_to_save_files + str(filename)[:-4] + \".csv\", mode=\"w\")"
   ]
  },
  {
   "cell_type": "code",
   "execution_count": 19,
   "metadata": {},
   "outputs": [],
   "source": [
    "def extract_data_to_csv(path_to_queries, path_to_save_files):    \n",
    "    try:\n",
    "        connection = mysql.connector.connect(host=host,port= port_num, user=user_name,ssl_disabled= True,password=password)\n",
    "        if connection.is_connected():\n",
    "            db_Info = connection.get_server_info()\n",
    "            print(\"Connected to MySQL database... MySQL Server version on \", db_Info)\n",
    "            extract_data(path_to_queries, path_to_save_files, connection)\n",
    "\n",
    "    except Error as e:\n",
    "        print(\"Error while connecting to MySQL\", e)\n",
    "    finally:\n",
    "        if connection.is_connected():\n",
    "            connection.close()\n",
    "            print(\"MySQL connection is closed\")"
   ]
  },
  {
   "cell_type": "code",
   "execution_count": 20,
   "metadata": {},
   "outputs": [
    {
     "name": "stdout",
     "output_type": "stream",
     "text": [
      "Connected to MySQL database... MySQL Server version on  5.6.10\n"
     ]
    },
    {
     "name": "stderr",
     "output_type": "stream",
     "text": [
      "C:\\Users\\willi\\AppData\\Local\\Temp\\ipykernel_79100\\4233513968.py:6: UserWarning: pandas only supports SQLAlchemy connectable (engine/connection) or database string URI or sqlite3 DBAPI2 connection. Other DBAPI2 objects are not tested. Please consider using SQLAlchemy.\n",
      "  file = pd.read_sql(\n",
      "C:\\Users\\willi\\AppData\\Local\\Temp\\ipykernel_79100\\4233513968.py:6: UserWarning: pandas only supports SQLAlchemy connectable (engine/connection) or database string URI or sqlite3 DBAPI2 connection. Other DBAPI2 objects are not tested. Please consider using SQLAlchemy.\n",
      "  file = pd.read_sql(\n",
      "C:\\Users\\willi\\AppData\\Local\\Temp\\ipykernel_79100\\4233513968.py:6: UserWarning: pandas only supports SQLAlchemy connectable (engine/connection) or database string URI or sqlite3 DBAPI2 connection. Other DBAPI2 objects are not tested. Please consider using SQLAlchemy.\n",
      "  file = pd.read_sql(\n",
      "C:\\Users\\willi\\AppData\\Local\\Temp\\ipykernel_79100\\4233513968.py:6: UserWarning: pandas only supports SQLAlchemy connectable (engine/connection) or database string URI or sqlite3 DBAPI2 connection. Other DBAPI2 objects are not tested. Please consider using SQLAlchemy.\n",
      "  file = pd.read_sql(\n",
      "C:\\Users\\willi\\AppData\\Local\\Temp\\ipykernel_79100\\4233513968.py:6: UserWarning: pandas only supports SQLAlchemy connectable (engine/connection) or database string URI or sqlite3 DBAPI2 connection. Other DBAPI2 objects are not tested. Please consider using SQLAlchemy.\n",
      "  file = pd.read_sql(\n",
      "C:\\Users\\willi\\AppData\\Local\\Temp\\ipykernel_79100\\4233513968.py:6: UserWarning: pandas only supports SQLAlchemy connectable (engine/connection) or database string URI or sqlite3 DBAPI2 connection. Other DBAPI2 objects are not tested. Please consider using SQLAlchemy.\n",
      "  file = pd.read_sql(\n",
      "C:\\Users\\willi\\AppData\\Local\\Temp\\ipykernel_79100\\4233513968.py:6: UserWarning: pandas only supports SQLAlchemy connectable (engine/connection) or database string URI or sqlite3 DBAPI2 connection. Other DBAPI2 objects are not tested. Please consider using SQLAlchemy.\n",
      "  file = pd.read_sql(\n",
      "C:\\Users\\willi\\AppData\\Local\\Temp\\ipykernel_79100\\4233513968.py:6: UserWarning: pandas only supports SQLAlchemy connectable (engine/connection) or database string URI or sqlite3 DBAPI2 connection. Other DBAPI2 objects are not tested. Please consider using SQLAlchemy.\n",
      "  file = pd.read_sql(\n",
      "C:\\Users\\willi\\AppData\\Local\\Temp\\ipykernel_79100\\4233513968.py:6: UserWarning: pandas only supports SQLAlchemy connectable (engine/connection) or database string URI or sqlite3 DBAPI2 connection. Other DBAPI2 objects are not tested. Please consider using SQLAlchemy.\n",
      "  file = pd.read_sql(\n",
      "C:\\Users\\willi\\AppData\\Local\\Temp\\ipykernel_79100\\4233513968.py:6: UserWarning: pandas only supports SQLAlchemy connectable (engine/connection) or database string URI or sqlite3 DBAPI2 connection. Other DBAPI2 objects are not tested. Please consider using SQLAlchemy.\n",
      "  file = pd.read_sql(\n",
      "C:\\Users\\willi\\AppData\\Local\\Temp\\ipykernel_79100\\4233513968.py:6: UserWarning: pandas only supports SQLAlchemy connectable (engine/connection) or database string URI or sqlite3 DBAPI2 connection. Other DBAPI2 objects are not tested. Please consider using SQLAlchemy.\n",
      "  file = pd.read_sql(\n"
     ]
    },
    {
     "name": "stdout",
     "output_type": "stream",
     "text": [
      "MySQL connection is closed\n"
     ]
    }
   ],
   "source": [
    "extract_data_to_csv(path_to_queries=\"queries/\", path_to_save_files=\"pages/Database/\")"
   ]
  }
 ],
 "metadata": {
  "kernelspec": {
   "display_name": "ml_webapp",
   "language": "python",
   "name": "python3"
  },
  "language_info": {
   "codemirror_mode": {
    "name": "ipython",
    "version": 3
   },
   "file_extension": ".py",
   "mimetype": "text/x-python",
   "name": "python",
   "nbconvert_exporter": "python",
   "pygments_lexer": "ipython3",
   "version": "3.9.13 | packaged by conda-forge | (main, May 27 2022, 17:01:00) \n[Clang 13.0.1 ]"
  },
  "orig_nbformat": 4,
  "vscode": {
   "interpreter": {
    "hash": "7423ee7a766d67a44569094ca530c072600fc0fb08778ceb741e90481c7f59c6"
   }
  }
 },
 "nbformat": 4,
 "nbformat_minor": 2
}
